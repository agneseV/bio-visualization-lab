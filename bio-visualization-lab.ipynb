{
 "cells": [
  {
   "cell_type": "markdown",
   "metadata": {},
   "source": [
    "#Putting it all together: exploratory bioinformatics with matplotlib"
   ]
  },
  {
   "cell_type": "markdown",
   "metadata": {},
   "source": [
    "####About the author:\n",
    "Oxana is a data scientist based in Stockholm, Sweden. She is studying for a PhD in Bioinformatics, exploring molecular evolution patterns in eukaryotes. You can follow Oxana on Twitter [@Merenlin](http://twitter.com/Merenlin) or read [her blog](http://merenlin.com).\n",
    "\n",
    "###Introduction\n",
    "This notebook will give you the recipes of the most popular data visualizations I encounter in my work as a bioinformatician. If you always wondered what bioinformatics is all about or would like to create interactive\n",
    "visualization for your genomic data using [matplotlib](http://matplotlib.org/), this is the place to start. \n",
    "\n",
    "We will be working with real [gene expression](http://en.wikipedia.org/wiki/Gene_expression) data obtained by [Cap Analysis of Gene Expression(CAGE)](http://en.wikipedia.org/wiki/Cap_analysis_gene_expression) from human samples by the [FANTOM5](http://fantom.gsc.riken.jp/5/) consortium. We will be following a typical workflow of a bioinformatician exploring new data, looking for the outliers: interesting genes or samples, or general patterns in the data. "
   ]
  },
  {
   "cell_type": "markdown",
   "metadata": {},
   "source": [
    "### Obtaining the data"
   ]
  },
  {
   "cell_type": "markdown",
   "metadata": {},
   "source": [
    "FANTOM5 provides high precision data of thousands of human and mouse samples. The vastness of this data can be overwhelming and operating it locally is challenging. Luckily, there are many tools out there to make our life easier.  \n",
    "For creating a small data subset we can work with in this tutorial, I used [TET: Fantom 5 Table Extraction tool](http://fantom.gsc.riken.jp/5/tet). I picked a few human samples, mostly brain tissues with a few outliers, like uterus and downloaded a tab-separated file from the website. For more advanced data extraction, it's good to have a look at [TET's API](https://github.com/Hypercubed/TET/blob/master/README.md). \n",
    "I have picked normalized tpm(tags per million) and annotated data, so we can focus only on processed data for protein coding genes. All data files for this notebook are available on figshare: http://dx.doi.org/10.6084/m9.figshare.1430029"
   ]
  },
  {
   "cell_type": "markdown",
   "metadata": {},
   "source": [
    "###Loading the dataset"
   ]
  },
  {
   "cell_type": "markdown",
   "metadata": {},
   "source": [
    "We are loading the data from the .tsv file, skipping the first two columns (00Annotation and short_description)."
   ]
  },
  {
   "cell_type": "code",
   "execution_count": 98,
   "metadata": {
    "collapsed": false,
    "scrolled": false
   },
   "outputs": [],
   "source": [
    "import numpy as np\n",
    "import pandas as pd\n",
    "\n",
    "# Read data from a tab separated file you downloaded\n",
    "data = np.genfromtxt(\"mm9.cage_peak_tpm_ann_decoded.osc.txt.gz.extract.tsv\", comments=\"#\", names=True, dtype=object, delimiter=\"\\t\")\n",
    "df = pd.DataFrame(data)\n",
    "#print it out, make sure the expression data is of type float\n",
    "#df.head()\n",
    "#df.dtypes\n",
    "#print out how many genes there are in your dataset"
   ]
  },
  {
   "cell_type": "code",
   "execution_count": 99,
   "metadata": {
    "collapsed": false
   },
   "outputs": [],
   "source": [
    "df[df.columns[2:]] = df[df.columns[2:]].astype(float)"
   ]
  },
  {
   "cell_type": "code",
   "execution_count": 7,
   "metadata": {
    "collapsed": false
   },
   "outputs": [
    {
     "data": {
      "text/plain": [
       "00Annotation                                                                   object\n",
       "uniprot_id                                                                     object\n",
       "Mouse_CD19_B_Cells_donor1_CNhs1353111856125A2                                 float64\n",
       "Mouse_CD4_T_Cells_donor1_CNhs1350911854124I9                                  float64\n",
       "Mouse_CD8_T_Cells_donor1_CNhs1351111855125A1                                  float64\n",
       "bone_os_femoris_neonate_N20_CNhs11195135025C3                                 float64\n",
       "forelimb_embryo_E15_CNhs1100743720E7                                          float64\n",
       "heart_embryo_E11_CNhs1058633124E9                                             float64\n",
       "kidney_neonate_N00_CNhs1121464621G7                                           float64\n",
       "neurospheres__parasympathetic_neuron_derived_biol_rep3_CNhs1308611809124D9    float64\n",
       "olfactory_brain_adult_CNhs104891822I9                                         float64\n",
       "whole_body_embryo_E11_CNhs110143245I8                                         float64\n",
       "dtype: object"
      ]
     },
     "execution_count": 7,
     "metadata": {},
     "output_type": "execute_result"
    }
   ],
   "source": [
    "df.dtypes"
   ]
  },
  {
   "cell_type": "markdown",
   "metadata": {},
   "source": [
    " Let's also make sure that we filter out those genes for which the [Uniprot](http://www.uniprot.org/) Id is unknown. That will reduce our data, besides, we are only interested in proteins in this analysis. "
   ]
  },
  {
   "cell_type": "code",
   "execution_count": 8,
   "metadata": {
    "collapsed": false
   },
   "outputs": [
    {
     "data": {
      "text/html": [
       "<div>\n",
       "<table border=\"1\" class=\"dataframe\">\n",
       "  <thead>\n",
       "    <tr style=\"text-align: right;\">\n",
       "      <th></th>\n",
       "      <th>00Annotation</th>\n",
       "      <th>uniprot_id</th>\n",
       "      <th>Mouse_CD19_B_Cells_donor1_CNhs1353111856125A2</th>\n",
       "      <th>Mouse_CD4_T_Cells_donor1_CNhs1350911854124I9</th>\n",
       "      <th>Mouse_CD8_T_Cells_donor1_CNhs1351111855125A1</th>\n",
       "      <th>bone_os_femoris_neonate_N20_CNhs11195135025C3</th>\n",
       "      <th>forelimb_embryo_E15_CNhs1100743720E7</th>\n",
       "      <th>heart_embryo_E11_CNhs1058633124E9</th>\n",
       "      <th>kidney_neonate_N00_CNhs1121464621G7</th>\n",
       "      <th>neurospheres__parasympathetic_neuron_derived_biol_rep3_CNhs1308611809124D9</th>\n",
       "      <th>olfactory_brain_adult_CNhs104891822I9</th>\n",
       "      <th>whole_body_embryo_E11_CNhs110143245I8</th>\n",
       "    </tr>\n",
       "  </thead>\n",
       "  <tbody>\n",
       "    <tr>\n",
       "      <th>0</th>\n",
       "      <td>b'chr10:100007025..100007067,+'</td>\n",
       "      <td>b'uniprot:Q6A078'</td>\n",
       "      <td>0.00</td>\n",
       "      <td>0.00</td>\n",
       "      <td>0.00</td>\n",
       "      <td>0.00</td>\n",
       "      <td>0.00</td>\n",
       "      <td>0.00</td>\n",
       "      <td>0.00</td>\n",
       "      <td>0.00</td>\n",
       "      <td>0.00</td>\n",
       "      <td>0.00</td>\n",
       "    </tr>\n",
       "    <tr>\n",
       "      <th>1</th>\n",
       "      <td>b'chr10:100051744..100051765,+'</td>\n",
       "      <td>b'NA'</td>\n",
       "      <td>0.00</td>\n",
       "      <td>0.00</td>\n",
       "      <td>0.00</td>\n",
       "      <td>0.00</td>\n",
       "      <td>0.00</td>\n",
       "      <td>0.00</td>\n",
       "      <td>0.00</td>\n",
       "      <td>0.00</td>\n",
       "      <td>0.00</td>\n",
       "      <td>0.00</td>\n",
       "    </tr>\n",
       "    <tr>\n",
       "      <th>2</th>\n",
       "      <td>b'chr10:100051839..100051903,-'</td>\n",
       "      <td>b'uniprot:Q8BHN7'</td>\n",
       "      <td>3.19</td>\n",
       "      <td>0.73</td>\n",
       "      <td>3.36</td>\n",
       "      <td>13.58</td>\n",
       "      <td>7.23</td>\n",
       "      <td>9.94</td>\n",
       "      <td>8.21</td>\n",
       "      <td>7.36</td>\n",
       "      <td>20.24</td>\n",
       "      <td>8.82</td>\n",
       "    </tr>\n",
       "    <tr>\n",
       "      <th>3</th>\n",
       "      <td>b'chr10:100053047..100053060,-'</td>\n",
       "      <td>b'NA'</td>\n",
       "      <td>0.00</td>\n",
       "      <td>0.00</td>\n",
       "      <td>0.00</td>\n",
       "      <td>0.00</td>\n",
       "      <td>0.00</td>\n",
       "      <td>0.00</td>\n",
       "      <td>0.00</td>\n",
       "      <td>0.00</td>\n",
       "      <td>0.00</td>\n",
       "      <td>0.00</td>\n",
       "    </tr>\n",
       "    <tr>\n",
       "      <th>4</th>\n",
       "      <td>b'chr10:100053061..100053066,-'</td>\n",
       "      <td>b'NA'</td>\n",
       "      <td>0.00</td>\n",
       "      <td>0.00</td>\n",
       "      <td>0.00</td>\n",
       "      <td>0.00</td>\n",
       "      <td>0.00</td>\n",
       "      <td>0.00</td>\n",
       "      <td>0.00</td>\n",
       "      <td>0.00</td>\n",
       "      <td>0.00</td>\n",
       "      <td>0.00</td>\n",
       "    </tr>\n",
       "  </tbody>\n",
       "</table>\n",
       "</div>"
      ],
      "text/plain": [
       "                      00Annotation         uniprot_id  \\\n",
       "0  b'chr10:100007025..100007067,+'  b'uniprot:Q6A078'   \n",
       "1  b'chr10:100051744..100051765,+'              b'NA'   \n",
       "2  b'chr10:100051839..100051903,-'  b'uniprot:Q8BHN7'   \n",
       "3  b'chr10:100053047..100053060,-'              b'NA'   \n",
       "4  b'chr10:100053061..100053066,-'              b'NA'   \n",
       "\n",
       "   Mouse_CD19_B_Cells_donor1_CNhs1353111856125A2  \\\n",
       "0                                           0.00   \n",
       "1                                           0.00   \n",
       "2                                           3.19   \n",
       "3                                           0.00   \n",
       "4                                           0.00   \n",
       "\n",
       "   Mouse_CD4_T_Cells_donor1_CNhs1350911854124I9  \\\n",
       "0                                          0.00   \n",
       "1                                          0.00   \n",
       "2                                          0.73   \n",
       "3                                          0.00   \n",
       "4                                          0.00   \n",
       "\n",
       "   Mouse_CD8_T_Cells_donor1_CNhs1351111855125A1  \\\n",
       "0                                          0.00   \n",
       "1                                          0.00   \n",
       "2                                          3.36   \n",
       "3                                          0.00   \n",
       "4                                          0.00   \n",
       "\n",
       "   bone_os_femoris_neonate_N20_CNhs11195135025C3  \\\n",
       "0                                           0.00   \n",
       "1                                           0.00   \n",
       "2                                          13.58   \n",
       "3                                           0.00   \n",
       "4                                           0.00   \n",
       "\n",
       "   forelimb_embryo_E15_CNhs1100743720E7  heart_embryo_E11_CNhs1058633124E9  \\\n",
       "0                                  0.00                               0.00   \n",
       "1                                  0.00                               0.00   \n",
       "2                                  7.23                               9.94   \n",
       "3                                  0.00                               0.00   \n",
       "4                                  0.00                               0.00   \n",
       "\n",
       "   kidney_neonate_N00_CNhs1121464621G7  \\\n",
       "0                                 0.00   \n",
       "1                                 0.00   \n",
       "2                                 8.21   \n",
       "3                                 0.00   \n",
       "4                                 0.00   \n",
       "\n",
       "   neurospheres__parasympathetic_neuron_derived_biol_rep3_CNhs1308611809124D9  \\\n",
       "0                                               0.00                            \n",
       "1                                               0.00                            \n",
       "2                                               7.36                            \n",
       "3                                               0.00                            \n",
       "4                                               0.00                            \n",
       "\n",
       "   olfactory_brain_adult_CNhs104891822I9  \\\n",
       "0                                   0.00   \n",
       "1                                   0.00   \n",
       "2                                  20.24   \n",
       "3                                   0.00   \n",
       "4                                   0.00   \n",
       "\n",
       "   whole_body_embryo_E11_CNhs110143245I8  \n",
       "0                                   0.00  \n",
       "1                                   0.00  \n",
       "2                                   8.82  \n",
       "3                                   0.00  \n",
       "4                                   0.00  "
      ]
     },
     "execution_count": 8,
     "metadata": {},
     "output_type": "execute_result"
    }
   ],
   "source": [
    "df.head()"
   ]
  },
  {
   "cell_type": "code",
   "execution_count": 3,
   "metadata": {
    "collapsed": false
   },
   "outputs": [],
   "source": [
    "# Remove rows from the data frame for which uniprot_id column is 'NA' or '' \n",
    "# Print out the first 5-10 rows of the dataframe again"
   ]
  },
  {
   "cell_type": "code",
   "execution_count": 9,
   "metadata": {
    "collapsed": false
   },
   "outputs": [
    {
     "data": {
      "text/html": [
       "<div>\n",
       "<table border=\"1\" class=\"dataframe\">\n",
       "  <thead>\n",
       "    <tr style=\"text-align: right;\">\n",
       "      <th></th>\n",
       "      <th>00Annotation</th>\n",
       "      <th>uniprot_id</th>\n",
       "      <th>Mouse_CD19_B_Cells_donor1_CNhs1353111856125A2</th>\n",
       "      <th>Mouse_CD4_T_Cells_donor1_CNhs1350911854124I9</th>\n",
       "      <th>Mouse_CD8_T_Cells_donor1_CNhs1351111855125A1</th>\n",
       "      <th>bone_os_femoris_neonate_N20_CNhs11195135025C3</th>\n",
       "      <th>forelimb_embryo_E15_CNhs1100743720E7</th>\n",
       "      <th>heart_embryo_E11_CNhs1058633124E9</th>\n",
       "      <th>kidney_neonate_N00_CNhs1121464621G7</th>\n",
       "      <th>neurospheres__parasympathetic_neuron_derived_biol_rep3_CNhs1308611809124D9</th>\n",
       "      <th>olfactory_brain_adult_CNhs104891822I9</th>\n",
       "      <th>whole_body_embryo_E11_CNhs110143245I8</th>\n",
       "    </tr>\n",
       "  </thead>\n",
       "  <tbody>\n",
       "    <tr>\n",
       "      <th>0</th>\n",
       "      <td>b'chr10:100007025..100007067,+'</td>\n",
       "      <td>b'uniprot:Q6A078'</td>\n",
       "      <td>0.00</td>\n",
       "      <td>0.00</td>\n",
       "      <td>0.00</td>\n",
       "      <td>0.00</td>\n",
       "      <td>0.00</td>\n",
       "      <td>0.00</td>\n",
       "      <td>0.00</td>\n",
       "      <td>0.00</td>\n",
       "      <td>0.00</td>\n",
       "      <td>0.00</td>\n",
       "    </tr>\n",
       "    <tr>\n",
       "      <th>2</th>\n",
       "      <td>b'chr10:100051839..100051903,-'</td>\n",
       "      <td>b'uniprot:Q8BHN7'</td>\n",
       "      <td>3.19</td>\n",
       "      <td>0.73</td>\n",
       "      <td>3.36</td>\n",
       "      <td>13.58</td>\n",
       "      <td>7.23</td>\n",
       "      <td>9.94</td>\n",
       "      <td>8.21</td>\n",
       "      <td>7.36</td>\n",
       "      <td>20.24</td>\n",
       "      <td>8.82</td>\n",
       "    </tr>\n",
       "    <tr>\n",
       "      <th>6</th>\n",
       "      <td>b'chr10:100054999..100055016,+'</td>\n",
       "      <td>b'uniprot:D3YX67'</td>\n",
       "      <td>0.00</td>\n",
       "      <td>0.00</td>\n",
       "      <td>0.00</td>\n",
       "      <td>0.00</td>\n",
       "      <td>0.00</td>\n",
       "      <td>0.00</td>\n",
       "      <td>0.00</td>\n",
       "      <td>0.00</td>\n",
       "      <td>0.00</td>\n",
       "      <td>0.00</td>\n",
       "    </tr>\n",
       "    <tr>\n",
       "      <th>7</th>\n",
       "      <td>b'chr10:100055020..100055040,+'</td>\n",
       "      <td>b'uniprot:D3YX67'</td>\n",
       "      <td>0.00</td>\n",
       "      <td>0.00</td>\n",
       "      <td>0.00</td>\n",
       "      <td>0.00</td>\n",
       "      <td>0.00</td>\n",
       "      <td>0.00</td>\n",
       "      <td>0.00</td>\n",
       "      <td>0.00</td>\n",
       "      <td>0.00</td>\n",
       "      <td>0.00</td>\n",
       "    </tr>\n",
       "    <tr>\n",
       "      <th>10</th>\n",
       "      <td>b'chr10:101144256..101144296,+'</td>\n",
       "      <td>b'uniprot:D3Z5V6'</td>\n",
       "      <td>0.00</td>\n",
       "      <td>0.00</td>\n",
       "      <td>0.00</td>\n",
       "      <td>0.00</td>\n",
       "      <td>0.00</td>\n",
       "      <td>0.00</td>\n",
       "      <td>0.28</td>\n",
       "      <td>0.00</td>\n",
       "      <td>14.46</td>\n",
       "      <td>0.00</td>\n",
       "    </tr>\n",
       "  </tbody>\n",
       "</table>\n",
       "</div>"
      ],
      "text/plain": [
       "                       00Annotation         uniprot_id  \\\n",
       "0   b'chr10:100007025..100007067,+'  b'uniprot:Q6A078'   \n",
       "2   b'chr10:100051839..100051903,-'  b'uniprot:Q8BHN7'   \n",
       "6   b'chr10:100054999..100055016,+'  b'uniprot:D3YX67'   \n",
       "7   b'chr10:100055020..100055040,+'  b'uniprot:D3YX67'   \n",
       "10  b'chr10:101144256..101144296,+'  b'uniprot:D3Z5V6'   \n",
       "\n",
       "    Mouse_CD19_B_Cells_donor1_CNhs1353111856125A2  \\\n",
       "0                                            0.00   \n",
       "2                                            3.19   \n",
       "6                                            0.00   \n",
       "7                                            0.00   \n",
       "10                                           0.00   \n",
       "\n",
       "    Mouse_CD4_T_Cells_donor1_CNhs1350911854124I9  \\\n",
       "0                                           0.00   \n",
       "2                                           0.73   \n",
       "6                                           0.00   \n",
       "7                                           0.00   \n",
       "10                                          0.00   \n",
       "\n",
       "    Mouse_CD8_T_Cells_donor1_CNhs1351111855125A1  \\\n",
       "0                                           0.00   \n",
       "2                                           3.36   \n",
       "6                                           0.00   \n",
       "7                                           0.00   \n",
       "10                                          0.00   \n",
       "\n",
       "    bone_os_femoris_neonate_N20_CNhs11195135025C3  \\\n",
       "0                                            0.00   \n",
       "2                                           13.58   \n",
       "6                                            0.00   \n",
       "7                                            0.00   \n",
       "10                                           0.00   \n",
       "\n",
       "    forelimb_embryo_E15_CNhs1100743720E7  heart_embryo_E11_CNhs1058633124E9  \\\n",
       "0                                   0.00                               0.00   \n",
       "2                                   7.23                               9.94   \n",
       "6                                   0.00                               0.00   \n",
       "7                                   0.00                               0.00   \n",
       "10                                  0.00                               0.00   \n",
       "\n",
       "    kidney_neonate_N00_CNhs1121464621G7  \\\n",
       "0                                  0.00   \n",
       "2                                  8.21   \n",
       "6                                  0.00   \n",
       "7                                  0.00   \n",
       "10                                 0.28   \n",
       "\n",
       "    neurospheres__parasympathetic_neuron_derived_biol_rep3_CNhs1308611809124D9  \\\n",
       "0                                                0.00                            \n",
       "2                                                7.36                            \n",
       "6                                                0.00                            \n",
       "7                                                0.00                            \n",
       "10                                               0.00                            \n",
       "\n",
       "    olfactory_brain_adult_CNhs104891822I9  \\\n",
       "0                                    0.00   \n",
       "2                                   20.24   \n",
       "6                                    0.00   \n",
       "7                                    0.00   \n",
       "10                                  14.46   \n",
       "\n",
       "    whole_body_embryo_E11_CNhs110143245I8  \n",
       "0                                    0.00  \n",
       "2                                    8.82  \n",
       "6                                    0.00  \n",
       "7                                    0.00  \n",
       "10                                   0.00  "
      ]
     },
     "execution_count": 9,
     "metadata": {},
     "output_type": "execute_result"
    }
   ],
   "source": [
    "known_uniprot_df=df[df.uniprot_id != b'NA']\n",
    "known_uniprot_df.head()"
   ]
  },
  {
   "cell_type": "code",
   "execution_count": 10,
   "metadata": {
    "collapsed": false
   },
   "outputs": [
    {
     "name": "stdout",
     "output_type": "stream",
     "text": [
      "[b'uniprot:Q6A078' b'uniprot:Q8BHN7' b'uniprot:D3YX67' ...,\n",
      " b'uniprot:D6RJL0,uniprot:Q3UQE8,uniprot:Q3TRX5,uniprot:D3Z2A3'\n",
      " b'uniprot:Q62095,uniprot:Q3TUR4' b'uniprot:F8VPU6,uniprot:Q91XW2']\n"
     ]
    }
   ],
   "source": [
    "unique_uniprot_IDs=pd.unique(known_uniprot_df.uniprot_id)\n",
    "print(unique_uniprot_IDs)"
   ]
  },
  {
   "cell_type": "code",
   "execution_count": 11,
   "metadata": {
    "collapsed": false
   },
   "outputs": [
    {
     "data": {
      "text/plain": [
       "count                 47755\n",
       "unique                25932\n",
       "top       b'uniprot:Q9Z2X1'\n",
       "freq                     19\n",
       "Name: uniprot_id, dtype: object"
      ]
     },
     "execution_count": 11,
     "metadata": {},
     "output_type": "execute_result"
    }
   ],
   "source": [
    "known_uniprot_df['uniprot_id'].describe() #there are 25 932 unique uniprot IDs"
   ]
  },
  {
   "cell_type": "markdown",
   "metadata": {},
   "source": [
    "###1. MA scatter plot comparing newborn and adult tissues"
   ]
  },
  {
   "cell_type": "markdown",
   "metadata": {
    "collapsed": false
   },
   "source": [
    "[MA plot](http://en.wikipedia.org/wiki/MA_plot) is a popular visualization tool coming from the microarray analysis. It allows researchers to explore true statistical differences between the two samples, arrays or other observations. We are going to look at the two samples of substantia nigra tissues from the brain of an adult and a newborn person. How do their genetic profiles differ? \n",
    "\n",
    "Firs, let's subset our big dataframe to only include the samples of interest. We will also prefilter the data to not include genes that are not expressed in these tissues. \n"
   ]
  },
  {
   "cell_type": "code",
   "execution_count": null,
   "metadata": {
    "collapsed": false
   },
   "outputs": [],
   "source": []
  },
  {
   "cell_type": "code",
   "execution_count": 12,
   "metadata": {
    "collapsed": false
   },
   "outputs": [
    {
     "data": {
      "text/html": [
       "<div>\n",
       "<table border=\"1\" class=\"dataframe\">\n",
       "  <thead>\n",
       "    <tr style=\"text-align: right;\">\n",
       "      <th></th>\n",
       "      <th>00Annotation</th>\n",
       "      <th>uniprot_id</th>\n",
       "      <th>Mouse_CD4_T_Cells_donor1_CNhs1350911854124I9</th>\n",
       "      <th>Mouse_CD8_T_Cells_donor1_CNhs1351111855125A1</th>\n",
       "    </tr>\n",
       "  </thead>\n",
       "  <tbody>\n",
       "    <tr>\n",
       "      <th>0</th>\n",
       "      <td>b'chr10:100007025..100007067,+'</td>\n",
       "      <td>b'uniprot:Q6A078'</td>\n",
       "      <td>0.00</td>\n",
       "      <td>0.00</td>\n",
       "    </tr>\n",
       "    <tr>\n",
       "      <th>2</th>\n",
       "      <td>b'chr10:100051839..100051903,-'</td>\n",
       "      <td>b'uniprot:Q8BHN7'</td>\n",
       "      <td>0.73</td>\n",
       "      <td>3.36</td>\n",
       "    </tr>\n",
       "    <tr>\n",
       "      <th>6</th>\n",
       "      <td>b'chr10:100054999..100055016,+'</td>\n",
       "      <td>b'uniprot:D3YX67'</td>\n",
       "      <td>0.00</td>\n",
       "      <td>0.00</td>\n",
       "    </tr>\n",
       "    <tr>\n",
       "      <th>7</th>\n",
       "      <td>b'chr10:100055020..100055040,+'</td>\n",
       "      <td>b'uniprot:D3YX67'</td>\n",
       "      <td>0.00</td>\n",
       "      <td>0.00</td>\n",
       "    </tr>\n",
       "    <tr>\n",
       "      <th>10</th>\n",
       "      <td>b'chr10:101144256..101144296,+'</td>\n",
       "      <td>b'uniprot:D3Z5V6'</td>\n",
       "      <td>0.00</td>\n",
       "      <td>0.00</td>\n",
       "    </tr>\n",
       "  </tbody>\n",
       "</table>\n",
       "</div>"
      ],
      "text/plain": [
       "                       00Annotation         uniprot_id  \\\n",
       "0   b'chr10:100007025..100007067,+'  b'uniprot:Q6A078'   \n",
       "2   b'chr10:100051839..100051903,-'  b'uniprot:Q8BHN7'   \n",
       "6   b'chr10:100054999..100055016,+'  b'uniprot:D3YX67'   \n",
       "7   b'chr10:100055020..100055040,+'  b'uniprot:D3YX67'   \n",
       "10  b'chr10:101144256..101144296,+'  b'uniprot:D3Z5V6'   \n",
       "\n",
       "    Mouse_CD4_T_Cells_donor1_CNhs1350911854124I9  \\\n",
       "0                                           0.00   \n",
       "2                                           0.73   \n",
       "6                                           0.00   \n",
       "7                                           0.00   \n",
       "10                                          0.00   \n",
       "\n",
       "    Mouse_CD8_T_Cells_donor1_CNhs1351111855125A1  \n",
       "0                                           0.00  \n",
       "2                                           3.36  \n",
       "6                                           0.00  \n",
       "7                                           0.00  \n",
       "10                                          0.00  "
      ]
     },
     "execution_count": 12,
     "metadata": {},
     "output_type": "execute_result"
    }
   ],
   "source": [
    "T_cell_df=known_uniprot_df.iloc[:, [0,1,3,4]]\n",
    "T_cell_df.head()"
   ]
  },
  {
   "cell_type": "code",
   "execution_count": 22,
   "metadata": {
    "collapsed": false
   },
   "outputs": [],
   "source": [
    "df_MA = T_cell_df[[\"uniprot_id\",\"Mouse_CD4_T_Cells_donor1_CNhs1350911854124I9\",\"Mouse_CD8_T_Cells_donor1_CNhs1351111855125A1\"]]"
   ]
  },
  {
   "cell_type": "code",
   "execution_count": 17,
   "metadata": {
    "collapsed": true
   },
   "outputs": [],
   "source": [
    "df_MA = df_MA[(df_MA.T != 0).any()]  #remove rows with all zeros #doesn't work for me"
   ]
  },
  {
   "cell_type": "code",
   "execution_count": 30,
   "metadata": {
    "collapsed": false
   },
   "outputs": [],
   "source": [
    "df_MA = df_MA[(df_MA.Mouse_CD4_T_Cells_donor1_CNhs1350911854124I9 != 0) & (df_MA.Mouse_CD8_T_Cells_donor1_CNhs1351111855125A1 != 0)]"
   ]
  },
  {
   "cell_type": "code",
   "execution_count": 31,
   "metadata": {
    "collapsed": false
   },
   "outputs": [
    {
     "data": {
      "text/html": [
       "<div>\n",
       "<table border=\"1\" class=\"dataframe\">\n",
       "  <thead>\n",
       "    <tr style=\"text-align: right;\">\n",
       "      <th></th>\n",
       "      <th>uniprot_id</th>\n",
       "      <th>Mouse_CD4_T_Cells_donor1_CNhs1350911854124I9</th>\n",
       "      <th>Mouse_CD8_T_Cells_donor1_CNhs1351111855125A1</th>\n",
       "    </tr>\n",
       "  </thead>\n",
       "  <tbody>\n",
       "    <tr>\n",
       "      <th>2</th>\n",
       "      <td>b'uniprot:Q8BHN7'</td>\n",
       "      <td>0.73</td>\n",
       "      <td>3.36</td>\n",
       "    </tr>\n",
       "    <tr>\n",
       "      <th>52</th>\n",
       "      <td>b'uniprot:Q0PD23,uniprot:Q9CZE3'</td>\n",
       "      <td>2.90</td>\n",
       "      <td>3.70</td>\n",
       "    </tr>\n",
       "    <tr>\n",
       "      <th>53</th>\n",
       "      <td>b'uniprot:Q9CZE3,uniprot:Q0PD23'</td>\n",
       "      <td>1.45</td>\n",
       "      <td>0.67</td>\n",
       "    </tr>\n",
       "    <tr>\n",
       "      <th>56</th>\n",
       "      <td>b'uniprot:Q8BG16'</td>\n",
       "      <td>0.73</td>\n",
       "      <td>0.34</td>\n",
       "    </tr>\n",
       "    <tr>\n",
       "      <th>86</th>\n",
       "      <td>b'uniprot:Q8R2N0'</td>\n",
       "      <td>21.76</td>\n",
       "      <td>18.82</td>\n",
       "    </tr>\n",
       "  </tbody>\n",
       "</table>\n",
       "</div>"
      ],
      "text/plain": [
       "                          uniprot_id  \\\n",
       "2                  b'uniprot:Q8BHN7'   \n",
       "52  b'uniprot:Q0PD23,uniprot:Q9CZE3'   \n",
       "53  b'uniprot:Q9CZE3,uniprot:Q0PD23'   \n",
       "56                 b'uniprot:Q8BG16'   \n",
       "86                 b'uniprot:Q8R2N0'   \n",
       "\n",
       "    Mouse_CD4_T_Cells_donor1_CNhs1350911854124I9  \\\n",
       "2                                           0.73   \n",
       "52                                          2.90   \n",
       "53                                          1.45   \n",
       "56                                          0.73   \n",
       "86                                         21.76   \n",
       "\n",
       "    Mouse_CD8_T_Cells_donor1_CNhs1351111855125A1  \n",
       "2                                           3.36  \n",
       "52                                          3.70  \n",
       "53                                          0.67  \n",
       "56                                          0.34  \n",
       "86                                         18.82  "
      ]
     },
     "execution_count": 31,
     "metadata": {},
     "output_type": "execute_result"
    }
   ],
   "source": [
    "df_MA.head()"
   ]
  },
  {
   "cell_type": "markdown",
   "metadata": {},
   "source": [
    "There are many different methods of computing the average expression level(A) between the two observations and\n",
    "the mean variation(M). To keep things simple, for this example we will just compare the mean avg on the x-axis vs the minus on the y-axis.\n",
    "Our data is already normalized and preprocessed, so this will be enough to find the clear outliers. \n",
    "\n",
    "Don't forget to plot on the log scales on both axis."
   ]
  },
  {
   "cell_type": "code",
   "execution_count": 33,
   "metadata": {
    "collapsed": false
   },
   "outputs": [
    {
     "data": {
      "text/html": [
       "<div>\n",
       "<table border=\"1\" class=\"dataframe\">\n",
       "  <thead>\n",
       "    <tr style=\"text-align: right;\">\n",
       "      <th></th>\n",
       "      <th>Mouse_CD4_T_Cells_donor1_CNhs1350911854124I9</th>\n",
       "      <th>Mouse_CD8_T_Cells_donor1_CNhs1351111855125A1</th>\n",
       "    </tr>\n",
       "  </thead>\n",
       "  <tbody>\n",
       "    <tr>\n",
       "      <th>count</th>\n",
       "      <td>17630.000000</td>\n",
       "      <td>17630.000000</td>\n",
       "    </tr>\n",
       "    <tr>\n",
       "      <th>mean</th>\n",
       "      <td>26.382622</td>\n",
       "      <td>26.214496</td>\n",
       "    </tr>\n",
       "    <tr>\n",
       "      <th>std</th>\n",
       "      <td>113.569318</td>\n",
       "      <td>116.519597</td>\n",
       "    </tr>\n",
       "    <tr>\n",
       "      <th>min</th>\n",
       "      <td>0.730000</td>\n",
       "      <td>0.340000</td>\n",
       "    </tr>\n",
       "    <tr>\n",
       "      <th>25%</th>\n",
       "      <td>2.180000</td>\n",
       "      <td>2.020000</td>\n",
       "    </tr>\n",
       "    <tr>\n",
       "      <th>50%</th>\n",
       "      <td>6.530000</td>\n",
       "      <td>6.390000</td>\n",
       "    </tr>\n",
       "    <tr>\n",
       "      <th>75%</th>\n",
       "      <td>21.760000</td>\n",
       "      <td>21.170000</td>\n",
       "    </tr>\n",
       "    <tr>\n",
       "      <th>max</th>\n",
       "      <td>5559.900000</td>\n",
       "      <td>6315.540000</td>\n",
       "    </tr>\n",
       "  </tbody>\n",
       "</table>\n",
       "</div>"
      ],
      "text/plain": [
       "       Mouse_CD4_T_Cells_donor1_CNhs1350911854124I9  \\\n",
       "count                                  17630.000000   \n",
       "mean                                      26.382622   \n",
       "std                                      113.569318   \n",
       "min                                        0.730000   \n",
       "25%                                        2.180000   \n",
       "50%                                        6.530000   \n",
       "75%                                       21.760000   \n",
       "max                                     5559.900000   \n",
       "\n",
       "       Mouse_CD8_T_Cells_donor1_CNhs1351111855125A1  \n",
       "count                                  17630.000000  \n",
       "mean                                      26.214496  \n",
       "std                                      116.519597  \n",
       "min                                        0.340000  \n",
       "25%                                        2.020000  \n",
       "50%                                        6.390000  \n",
       "75%                                       21.170000  \n",
       "max                                     6315.540000  "
      ]
     },
     "execution_count": 33,
     "metadata": {},
     "output_type": "execute_result"
    }
   ],
   "source": [
    "df_MA.describe()"
   ]
  },
  {
   "cell_type": "code",
   "execution_count": 36,
   "metadata": {
    "collapsed": false
   },
   "outputs": [],
   "source": [
    "import matplotlib.pyplot as plt\n",
    "%matplotlib inline\n",
    "\n",
    "x = df_MA.Mouse_CD4_T_Cells_donor1_CNhs1350911854124I9\n",
    "y = df_MA.Mouse_CD8_T_Cells_donor1_CNhs1351111855125A1\n",
    "A = (x + y)/2\n",
    "M = x - y\n",
    "\n",
    "\n"
   ]
  },
  {
   "cell_type": "code",
   "execution_count": 40,
   "metadata": {
    "collapsed": false
   },
   "outputs": [
    {
     "data": {
      "text/html": [
       "<div>\n",
       "<table border=\"1\" class=\"dataframe\">\n",
       "  <thead>\n",
       "    <tr style=\"text-align: right;\">\n",
       "      <th></th>\n",
       "      <th>uniprot_id</th>\n",
       "      <th>Mouse_CD4_T_Cells_donor1_CNhs1350911854124I9</th>\n",
       "      <th>Mouse_CD8_T_Cells_donor1_CNhs1351111855125A1</th>\n",
       "      <th>A</th>\n",
       "      <th>M</th>\n",
       "    </tr>\n",
       "  </thead>\n",
       "  <tbody>\n",
       "    <tr>\n",
       "      <th>2</th>\n",
       "      <td>b'uniprot:Q8BHN7'</td>\n",
       "      <td>0.73</td>\n",
       "      <td>3.36</td>\n",
       "      <td>2.045</td>\n",
       "      <td>-2.63</td>\n",
       "    </tr>\n",
       "    <tr>\n",
       "      <th>52</th>\n",
       "      <td>b'uniprot:Q0PD23,uniprot:Q9CZE3'</td>\n",
       "      <td>2.90</td>\n",
       "      <td>3.70</td>\n",
       "      <td>3.300</td>\n",
       "      <td>-0.80</td>\n",
       "    </tr>\n",
       "    <tr>\n",
       "      <th>53</th>\n",
       "      <td>b'uniprot:Q9CZE3,uniprot:Q0PD23'</td>\n",
       "      <td>1.45</td>\n",
       "      <td>0.67</td>\n",
       "      <td>1.060</td>\n",
       "      <td>0.78</td>\n",
       "    </tr>\n",
       "    <tr>\n",
       "      <th>56</th>\n",
       "      <td>b'uniprot:Q8BG16'</td>\n",
       "      <td>0.73</td>\n",
       "      <td>0.34</td>\n",
       "      <td>0.535</td>\n",
       "      <td>0.39</td>\n",
       "    </tr>\n",
       "    <tr>\n",
       "      <th>86</th>\n",
       "      <td>b'uniprot:Q8R2N0'</td>\n",
       "      <td>21.76</td>\n",
       "      <td>18.82</td>\n",
       "      <td>20.290</td>\n",
       "      <td>2.94</td>\n",
       "    </tr>\n",
       "  </tbody>\n",
       "</table>\n",
       "</div>"
      ],
      "text/plain": [
       "                          uniprot_id  \\\n",
       "2                  b'uniprot:Q8BHN7'   \n",
       "52  b'uniprot:Q0PD23,uniprot:Q9CZE3'   \n",
       "53  b'uniprot:Q9CZE3,uniprot:Q0PD23'   \n",
       "56                 b'uniprot:Q8BG16'   \n",
       "86                 b'uniprot:Q8R2N0'   \n",
       "\n",
       "    Mouse_CD4_T_Cells_donor1_CNhs1350911854124I9  \\\n",
       "2                                           0.73   \n",
       "52                                          2.90   \n",
       "53                                          1.45   \n",
       "56                                          0.73   \n",
       "86                                         21.76   \n",
       "\n",
       "    Mouse_CD8_T_Cells_donor1_CNhs1351111855125A1       A     M  \n",
       "2                                           3.36   2.045 -2.63  \n",
       "52                                          3.70   3.300 -0.80  \n",
       "53                                          0.67   1.060  0.78  \n",
       "56                                          0.34   0.535  0.39  \n",
       "86                                         18.82  20.290  2.94  "
      ]
     },
     "execution_count": 40,
     "metadata": {},
     "output_type": "execute_result"
    }
   ],
   "source": [
    "df_MA['A']=A\n",
    "df_MA['M']=M\n",
    "df_MA.head()"
   ]
  },
  {
   "cell_type": "code",
   "execution_count": 41,
   "metadata": {
    "collapsed": false
   },
   "outputs": [
    {
     "name": "stderr",
     "output_type": "stream",
     "text": [
      "/Users/agnes/anaconda/lib/python3.5/site-packages/matplotlib/collections.py:590: FutureWarning: elementwise comparison failed; returning scalar instead, but in the future will perform elementwise comparison\n",
      "  if self._edgecolors == str('face'):\n"
     ]
    },
    {
     "data": {
      "image/png": "[encoded data removed]",
      "text/plain": [
       "<matplotlib.figure.Figure at 0x107a7cb00>"
      ]
     },
     "metadata": {},
     "output_type": "display_data"
    }
   ],
   "source": [
    "df_MA.plot(kind='scatter',x='A',y='M');"
   ]
  },
  {
   "cell_type": "markdown",
   "metadata": {},
   "source": [
    "Now we can already start exploring some of the genes, that behave differently in adult vs newborn samples. "
   ]
  },
  {
   "cell_type": "markdown",
   "metadata": {
    "collapsed": true
   },
   "source": [
    "### 2. Histograms of expression breadth and average expression levels"
   ]
  },
  {
   "cell_type": "markdown",
   "metadata": {},
   "source": [
    "Another timeless visualization for exploratory data analysis is histogram.\n",
    "\n",
    "Here we will also practice creating subplots."
   ]
  },
  {
   "cell_type": "code",
   "execution_count": 100,
   "metadata": {
    "collapsed": false
   },
   "outputs": [],
   "source": [
    "df['breadth'] =  (df[df.columns[2:].values.tolist()].astype('float')>0).sum(axis=1)"
   ]
  },
  {
   "cell_type": "code",
   "execution_count": 108,
   "metadata": {
    "collapsed": false
   },
   "outputs": [
    {
     "data": {
      "text/html": [
       "<div>\n",
       "<table border=\"1\" class=\"dataframe\">\n",
       "  <thead>\n",
       "    <tr style=\"text-align: right;\">\n",
       "      <th></th>\n",
       "      <th>00Annotation</th>\n",
       "      <th>uniprot_id</th>\n",
       "      <th>Mouse_CD19_B_Cells_donor1_CNhs1353111856125A2</th>\n",
       "      <th>Mouse_CD4_T_Cells_donor1_CNhs1350911854124I9</th>\n",
       "      <th>Mouse_CD8_T_Cells_donor1_CNhs1351111855125A1</th>\n",
       "      <th>bone_os_femoris_neonate_N20_CNhs11195135025C3</th>\n",
       "      <th>forelimb_embryo_E15_CNhs1100743720E7</th>\n",
       "      <th>heart_embryo_E11_CNhs1058633124E9</th>\n",
       "      <th>kidney_neonate_N00_CNhs1121464621G7</th>\n",
       "      <th>neurospheres__parasympathetic_neuron_derived_biol_rep3_CNhs1308611809124D9</th>\n",
       "      <th>olfactory_brain_adult_CNhs104891822I9</th>\n",
       "      <th>whole_body_embryo_E11_CNhs110143245I8</th>\n",
       "      <th>breadth</th>\n",
       "      <th>avg</th>\n",
       "    </tr>\n",
       "  </thead>\n",
       "  <tbody>\n",
       "    <tr>\n",
       "      <th>0</th>\n",
       "      <td>b'chr10:100007025..100007067,+'</td>\n",
       "      <td>b'uniprot:Q6A078'</td>\n",
       "      <td>0.00</td>\n",
       "      <td>0.00</td>\n",
       "      <td>0.00</td>\n",
       "      <td>0.00</td>\n",
       "      <td>0.00</td>\n",
       "      <td>0.00</td>\n",
       "      <td>0.00</td>\n",
       "      <td>0.00</td>\n",
       "      <td>0.00</td>\n",
       "      <td>0.00</td>\n",
       "      <td>0</td>\n",
       "      <td>0.000</td>\n",
       "    </tr>\n",
       "    <tr>\n",
       "      <th>1</th>\n",
       "      <td>b'chr10:100051744..100051765,+'</td>\n",
       "      <td>b'NA'</td>\n",
       "      <td>0.00</td>\n",
       "      <td>0.00</td>\n",
       "      <td>0.00</td>\n",
       "      <td>0.00</td>\n",
       "      <td>0.00</td>\n",
       "      <td>0.00</td>\n",
       "      <td>0.00</td>\n",
       "      <td>0.00</td>\n",
       "      <td>0.00</td>\n",
       "      <td>0.00</td>\n",
       "      <td>0</td>\n",
       "      <td>0.000</td>\n",
       "    </tr>\n",
       "    <tr>\n",
       "      <th>2</th>\n",
       "      <td>b'chr10:100051839..100051903,-'</td>\n",
       "      <td>b'uniprot:Q8BHN7'</td>\n",
       "      <td>3.19</td>\n",
       "      <td>0.73</td>\n",
       "      <td>3.36</td>\n",
       "      <td>13.58</td>\n",
       "      <td>7.23</td>\n",
       "      <td>9.94</td>\n",
       "      <td>8.21</td>\n",
       "      <td>7.36</td>\n",
       "      <td>20.24</td>\n",
       "      <td>8.82</td>\n",
       "      <td>10</td>\n",
       "      <td>8.266</td>\n",
       "    </tr>\n",
       "    <tr>\n",
       "      <th>3</th>\n",
       "      <td>b'chr10:100053047..100053060,-'</td>\n",
       "      <td>b'NA'</td>\n",
       "      <td>0.00</td>\n",
       "      <td>0.00</td>\n",
       "      <td>0.00</td>\n",
       "      <td>0.00</td>\n",
       "      <td>0.00</td>\n",
       "      <td>0.00</td>\n",
       "      <td>0.00</td>\n",
       "      <td>0.00</td>\n",
       "      <td>0.00</td>\n",
       "      <td>0.00</td>\n",
       "      <td>0</td>\n",
       "      <td>0.000</td>\n",
       "    </tr>\n",
       "    <tr>\n",
       "      <th>4</th>\n",
       "      <td>b'chr10:100053061..100053066,-'</td>\n",
       "      <td>b'NA'</td>\n",
       "      <td>0.00</td>\n",
       "      <td>0.00</td>\n",
       "      <td>0.00</td>\n",
       "      <td>0.00</td>\n",
       "      <td>0.00</td>\n",
       "      <td>0.00</td>\n",
       "      <td>0.00</td>\n",
       "      <td>0.00</td>\n",
       "      <td>0.00</td>\n",
       "      <td>0.00</td>\n",
       "      <td>0</td>\n",
       "      <td>0.000</td>\n",
       "    </tr>\n",
       "  </tbody>\n",
       "</table>\n",
       "</div>"
      ],
      "text/plain": [
       "                      00Annotation         uniprot_id  \\\n",
       "0  b'chr10:100007025..100007067,+'  b'uniprot:Q6A078'   \n",
       "1  b'chr10:100051744..100051765,+'              b'NA'   \n",
       "2  b'chr10:100051839..100051903,-'  b'uniprot:Q8BHN7'   \n",
       "3  b'chr10:100053047..100053060,-'              b'NA'   \n",
       "4  b'chr10:100053061..100053066,-'              b'NA'   \n",
       "\n",
       "   Mouse_CD19_B_Cells_donor1_CNhs1353111856125A2  \\\n",
       "0                                           0.00   \n",
       "1                                           0.00   \n",
       "2                                           3.19   \n",
       "3                                           0.00   \n",
       "4                                           0.00   \n",
       "\n",
       "   Mouse_CD4_T_Cells_donor1_CNhs1350911854124I9  \\\n",
       "0                                          0.00   \n",
       "1                                          0.00   \n",
       "2                                          0.73   \n",
       "3                                          0.00   \n",
       "4                                          0.00   \n",
       "\n",
       "   Mouse_CD8_T_Cells_donor1_CNhs1351111855125A1  \\\n",
       "0                                          0.00   \n",
       "1                                          0.00   \n",
       "2                                          3.36   \n",
       "3                                          0.00   \n",
       "4                                          0.00   \n",
       "\n",
       "   bone_os_femoris_neonate_N20_CNhs11195135025C3  \\\n",
       "0                                           0.00   \n",
       "1                                           0.00   \n",
       "2                                          13.58   \n",
       "3                                           0.00   \n",
       "4                                           0.00   \n",
       "\n",
       "   forelimb_embryo_E15_CNhs1100743720E7  heart_embryo_E11_CNhs1058633124E9  \\\n",
       "0                                  0.00                               0.00   \n",
       "1                                  0.00                               0.00   \n",
       "2                                  7.23                               9.94   \n",
       "3                                  0.00                               0.00   \n",
       "4                                  0.00                               0.00   \n",
       "\n",
       "   kidney_neonate_N00_CNhs1121464621G7  \\\n",
       "0                                 0.00   \n",
       "1                                 0.00   \n",
       "2                                 8.21   \n",
       "3                                 0.00   \n",
       "4                                 0.00   \n",
       "\n",
       "   neurospheres__parasympathetic_neuron_derived_biol_rep3_CNhs1308611809124D9  \\\n",
       "0                                               0.00                            \n",
       "1                                               0.00                            \n",
       "2                                               7.36                            \n",
       "3                                               0.00                            \n",
       "4                                               0.00                            \n",
       "\n",
       "   olfactory_brain_adult_CNhs104891822I9  \\\n",
       "0                                   0.00   \n",
       "1                                   0.00   \n",
       "2                                  20.24   \n",
       "3                                   0.00   \n",
       "4                                   0.00   \n",
       "\n",
       "   whole_body_embryo_E11_CNhs110143245I8  breadth    avg  \n",
       "0                                   0.00        0  0.000  \n",
       "1                                   0.00        0  0.000  \n",
       "2                                   8.82       10  8.266  \n",
       "3                                   0.00        0  0.000  \n",
       "4                                   0.00        0  0.000  "
      ]
     },
     "execution_count": 108,
     "metadata": {},
     "output_type": "execute_result"
    }
   ],
   "source": [
    "df.head()"
   ]
  },
  {
   "cell_type": "code",
   "execution_count": 163,
   "metadata": {
    "collapsed": false
   },
   "outputs": [],
   "source": [
    "#compute average expression column\n",
    "df['avg']=df[df.columns[2:11]].mean(axis=1)"
   ]
  },
  {
   "cell_type": "code",
   "execution_count": 164,
   "metadata": {
    "collapsed": false
   },
   "outputs": [
    {
     "ename": "ValueError",
     "evalue": "'default' not found in the style library and input is not a valid URL or path. See `style.available` for list of available styles.",
     "output_type": "error",
     "traceback": [
      "\u001b[0;31m---------------------------------------------------------------------------\u001b[0m",
      "\u001b[0;31mFileNotFoundError\u001b[0m                         Traceback (most recent call last)",
      "\u001b[0;32m/Users/agnes/anaconda/lib/python3.5/site-packages/matplotlib/style/core.py\u001b[0m in \u001b[0;36muse\u001b[0;34m(name)\u001b[0m\n\u001b[1;32m     59\u001b[0m             \u001b[0;32mtry\u001b[0m\u001b[0;34m:\u001b[0m\u001b[0;34m\u001b[0m\u001b[0m\n\u001b[0;32m---> 60\u001b[0;31m                 \u001b[0mrc\u001b[0m \u001b[0;34m=\u001b[0m \u001b[0mrc_params_from_file\u001b[0m\u001b[0;34m(\u001b[0m\u001b[0mstyle\u001b[0m\u001b[0;34m,\u001b[0m \u001b[0muse_default_template\u001b[0m\u001b[0;34m=\u001b[0m\u001b[0;32mFalse\u001b[0m\u001b[0;34m)\u001b[0m\u001b[0;34m\u001b[0m\u001b[0m\n\u001b[0m\u001b[1;32m     61\u001b[0m                 \u001b[0mmpl\u001b[0m\u001b[0;34m.\u001b[0m\u001b[0mrcParams\u001b[0m\u001b[0;34m.\u001b[0m\u001b[0mupdate\u001b[0m\u001b[0;34m(\u001b[0m\u001b[0mrc\u001b[0m\u001b[0;34m)\u001b[0m\u001b[0;34m\u001b[0m\u001b[0m\n",
      "\u001b[0;32m/Users/agnes/anaconda/lib/python3.5/site-packages/matplotlib/__init__.py\u001b[0m in \u001b[0;36mrc_params_from_file\u001b[0;34m(fname, fail_on_error, use_default_template)\u001b[0m\n\u001b[1;32m   1068\u001b[0m     \"\"\"\n\u001b[0;32m-> 1069\u001b[0;31m     \u001b[0mconfig_from_file\u001b[0m \u001b[0;34m=\u001b[0m \u001b[0m_rc_params_in_file\u001b[0m\u001b[0;34m(\u001b[0m\u001b[0mfname\u001b[0m\u001b[0;34m,\u001b[0m \u001b[0mfail_on_error\u001b[0m\u001b[0;34m)\u001b[0m\u001b[0;34m\u001b[0m\u001b[0m\n\u001b[0m\u001b[1;32m   1070\u001b[0m \u001b[0;34m\u001b[0m\u001b[0m\n",
      "\u001b[0;32m/Users/agnes/anaconda/lib/python3.5/site-packages/matplotlib/__init__.py\u001b[0m in \u001b[0;36m_rc_params_in_file\u001b[0;34m(fname, fail_on_error)\u001b[0m\n\u001b[1;32m    995\u001b[0m     \u001b[0mrc_temp\u001b[0m \u001b[0;34m=\u001b[0m \u001b[0;34m{\u001b[0m\u001b[0;34m}\u001b[0m\u001b[0;34m\u001b[0m\u001b[0m\n\u001b[0;32m--> 996\u001b[0;31m     \u001b[0;32mwith\u001b[0m \u001b[0m_open_file_or_url\u001b[0m\u001b[0;34m(\u001b[0m\u001b[0mfname\u001b[0m\u001b[0;34m)\u001b[0m \u001b[0;32mas\u001b[0m \u001b[0mfd\u001b[0m\u001b[0;34m:\u001b[0m\u001b[0;34m\u001b[0m\u001b[0m\n\u001b[0m\u001b[1;32m    997\u001b[0m         \u001b[0;32mfor\u001b[0m \u001b[0mline\u001b[0m \u001b[0;32min\u001b[0m \u001b[0mfd\u001b[0m\u001b[0;34m:\u001b[0m\u001b[0;34m\u001b[0m\u001b[0m\n",
      "\u001b[0;32m/Users/agnes/anaconda/lib/python3.5/contextlib.py\u001b[0m in \u001b[0;36m__enter__\u001b[0;34m(self)\u001b[0m\n\u001b[1;32m     58\u001b[0m         \u001b[0;32mtry\u001b[0m\u001b[0;34m:\u001b[0m\u001b[0;34m\u001b[0m\u001b[0m\n\u001b[0;32m---> 59\u001b[0;31m             \u001b[0;32mreturn\u001b[0m \u001b[0mnext\u001b[0m\u001b[0;34m(\u001b[0m\u001b[0mself\u001b[0m\u001b[0;34m.\u001b[0m\u001b[0mgen\u001b[0m\u001b[0;34m)\u001b[0m\u001b[0;34m\u001b[0m\u001b[0m\n\u001b[0m\u001b[1;32m     60\u001b[0m         \u001b[0;32mexcept\u001b[0m \u001b[0mStopIteration\u001b[0m\u001b[0;34m:\u001b[0m\u001b[0;34m\u001b[0m\u001b[0m\n",
      "\u001b[0;32m/Users/agnes/anaconda/lib/python3.5/site-packages/matplotlib/__init__.py\u001b[0m in \u001b[0;36m_open_file_or_url\u001b[0;34m(fname)\u001b[0m\n\u001b[1;32m    980\u001b[0m     \u001b[0;32melse\u001b[0m\u001b[0;34m:\u001b[0m\u001b[0;34m\u001b[0m\u001b[0m\n\u001b[0;32m--> 981\u001b[0;31m         \u001b[0;32mwith\u001b[0m \u001b[0mopen\u001b[0m\u001b[0;34m(\u001b[0m\u001b[0mfname\u001b[0m\u001b[0;34m)\u001b[0m \u001b[0;32mas\u001b[0m \u001b[0mf\u001b[0m\u001b[0;34m:\u001b[0m\u001b[0;34m\u001b[0m\u001b[0m\n\u001b[0m\u001b[1;32m    982\u001b[0m             \u001b[0;32myield\u001b[0m \u001b[0mf\u001b[0m\u001b[0;34m\u001b[0m\u001b[0m\n",
      "\u001b[0;31mFileNotFoundError\u001b[0m: [Errno 2] No such file or directory: 'default'",
      "\nDuring handling of the above exception, another exception occurred:\n",
      "\u001b[0;31mValueError\u001b[0m                                Traceback (most recent call last)",
      "\u001b[0;32m<ipython-input-164-845bf30f9f3b>\u001b[0m in \u001b[0;36m<module>\u001b[0;34m()\u001b[0m\n\u001b[1;32m      1\u001b[0m \u001b[0;32mimport\u001b[0m \u001b[0mmatplotlib\u001b[0m \u001b[0;32mas\u001b[0m \u001b[0mplt\u001b[0m\u001b[0;34m\u001b[0m\u001b[0m\n\u001b[0;32m----> 2\u001b[0;31m \u001b[0mplt\u001b[0m\u001b[0;34m.\u001b[0m\u001b[0mstyle\u001b[0m\u001b[0;34m.\u001b[0m\u001b[0muse\u001b[0m\u001b[0;34m(\u001b[0m\u001b[0;34m'default'\u001b[0m\u001b[0;34m)\u001b[0m\u001b[0;34m\u001b[0m\u001b[0m\n\u001b[0m",
      "\u001b[0;32m/Users/agnes/anaconda/lib/python3.5/site-packages/matplotlib/style/core.py\u001b[0m in \u001b[0;36muse\u001b[0;34m(name)\u001b[0m\n\u001b[1;32m     64\u001b[0m                        \u001b[0;34m\"not a valid URL or path. See `style.available` for \"\u001b[0m\u001b[0;34m\u001b[0m\u001b[0m\n\u001b[1;32m     65\u001b[0m                        \"list of available styles.\")\n\u001b[0;32m---> 66\u001b[0;31m                 \u001b[0;32mraise\u001b[0m \u001b[0mValueError\u001b[0m\u001b[0;34m(\u001b[0m\u001b[0mmsg\u001b[0m \u001b[0;34m%\u001b[0m \u001b[0mstyle\u001b[0m\u001b[0;34m)\u001b[0m\u001b[0;34m\u001b[0m\u001b[0m\n\u001b[0m\u001b[1;32m     67\u001b[0m \u001b[0;34m\u001b[0m\u001b[0m\n\u001b[1;32m     68\u001b[0m \u001b[0;34m\u001b[0m\u001b[0m\n",
      "\u001b[0;31mValueError\u001b[0m: 'default' not found in the style library and input is not a valid URL or path. See `style.available` for list of available styles."
     ]
    }
   ],
   "source": [
    "import matplotlib as plt\n",
    "plt.style.use('default')"
   ]
  },
  {
   "cell_type": "code",
   "execution_count": 111,
   "metadata": {
    "collapsed": false
   },
   "outputs": [],
   "source": [
    "pd.options.display.mpl_style = 'default'"
   ]
  },
  {
   "cell_type": "code",
   "execution_count": 165,
   "metadata": {
    "collapsed": false
   },
   "outputs": [],
   "source": [
    "small=df.iloc[:,[12,13]]"
   ]
  },
  {
   "cell_type": "code",
   "execution_count": 166,
   "metadata": {
    "collapsed": false
   },
   "outputs": [
    {
     "data": {
      "text/html": [
       "<div>\n",
       "<table border=\"1\" class=\"dataframe\">\n",
       "  <thead>\n",
       "    <tr style=\"text-align: right;\">\n",
       "      <th></th>\n",
       "      <th>breadth</th>\n",
       "      <th>avg</th>\n",
       "    </tr>\n",
       "  </thead>\n",
       "  <tbody>\n",
       "    <tr>\n",
       "      <th>0</th>\n",
       "      <td>0</td>\n",
       "      <td>0.000000</td>\n",
       "    </tr>\n",
       "    <tr>\n",
       "      <th>1</th>\n",
       "      <td>0</td>\n",
       "      <td>0.000000</td>\n",
       "    </tr>\n",
       "    <tr>\n",
       "      <th>2</th>\n",
       "      <td>10</td>\n",
       "      <td>8.204444</td>\n",
       "    </tr>\n",
       "    <tr>\n",
       "      <th>3</th>\n",
       "      <td>0</td>\n",
       "      <td>0.000000</td>\n",
       "    </tr>\n",
       "    <tr>\n",
       "      <th>4</th>\n",
       "      <td>0</td>\n",
       "      <td>0.000000</td>\n",
       "    </tr>\n",
       "    <tr>\n",
       "      <th>5</th>\n",
       "      <td>0</td>\n",
       "      <td>0.000000</td>\n",
       "    </tr>\n",
       "    <tr>\n",
       "      <th>6</th>\n",
       "      <td>0</td>\n",
       "      <td>0.000000</td>\n",
       "    </tr>\n",
       "    <tr>\n",
       "      <th>7</th>\n",
       "      <td>0</td>\n",
       "      <td>0.000000</td>\n",
       "    </tr>\n",
       "    <tr>\n",
       "      <th>8</th>\n",
       "      <td>0</td>\n",
       "      <td>0.000000</td>\n",
       "    </tr>\n",
       "    <tr>\n",
       "      <th>9</th>\n",
       "      <td>8</td>\n",
       "      <td>0.346667</td>\n",
       "    </tr>\n",
       "    <tr>\n",
       "      <th>10</th>\n",
       "      <td>2</td>\n",
       "      <td>1.637778</td>\n",
       "    </tr>\n",
       "    <tr>\n",
       "      <th>11</th>\n",
       "      <td>1</td>\n",
       "      <td>0.428889</td>\n",
       "    </tr>\n",
       "    <tr>\n",
       "      <th>12</th>\n",
       "      <td>2</td>\n",
       "      <td>1.400000</td>\n",
       "    </tr>\n",
       "    <tr>\n",
       "      <th>13</th>\n",
       "      <td>2</td>\n",
       "      <td>0.543333</td>\n",
       "    </tr>\n",
       "    <tr>\n",
       "      <th>14</th>\n",
       "      <td>3</td>\n",
       "      <td>0.132222</td>\n",
       "    </tr>\n",
       "    <tr>\n",
       "      <th>15</th>\n",
       "      <td>3</td>\n",
       "      <td>0.314444</td>\n",
       "    </tr>\n",
       "    <tr>\n",
       "      <th>16</th>\n",
       "      <td>4</td>\n",
       "      <td>0.438889</td>\n",
       "    </tr>\n",
       "    <tr>\n",
       "      <th>17</th>\n",
       "      <td>1</td>\n",
       "      <td>0.035556</td>\n",
       "    </tr>\n",
       "    <tr>\n",
       "      <th>18</th>\n",
       "      <td>2</td>\n",
       "      <td>0.007778</td>\n",
       "    </tr>\n",
       "    <tr>\n",
       "      <th>19</th>\n",
       "      <td>3</td>\n",
       "      <td>0.155556</td>\n",
       "    </tr>\n",
       "    <tr>\n",
       "      <th>20</th>\n",
       "      <td>4</td>\n",
       "      <td>0.141111</td>\n",
       "    </tr>\n",
       "    <tr>\n",
       "      <th>21</th>\n",
       "      <td>3</td>\n",
       "      <td>0.148889</td>\n",
       "    </tr>\n",
       "    <tr>\n",
       "      <th>22</th>\n",
       "      <td>3</td>\n",
       "      <td>0.595556</td>\n",
       "    </tr>\n",
       "    <tr>\n",
       "      <th>23</th>\n",
       "      <td>1</td>\n",
       "      <td>0.045556</td>\n",
       "    </tr>\n",
       "    <tr>\n",
       "      <th>24</th>\n",
       "      <td>0</td>\n",
       "      <td>0.000000</td>\n",
       "    </tr>\n",
       "    <tr>\n",
       "      <th>25</th>\n",
       "      <td>0</td>\n",
       "      <td>0.000000</td>\n",
       "    </tr>\n",
       "    <tr>\n",
       "      <th>26</th>\n",
       "      <td>5</td>\n",
       "      <td>3.310000</td>\n",
       "    </tr>\n",
       "    <tr>\n",
       "      <th>27</th>\n",
       "      <td>3</td>\n",
       "      <td>0.066667</td>\n",
       "    </tr>\n",
       "    <tr>\n",
       "      <th>28</th>\n",
       "      <td>4</td>\n",
       "      <td>0.437778</td>\n",
       "    </tr>\n",
       "    <tr>\n",
       "      <th>29</th>\n",
       "      <td>4</td>\n",
       "      <td>0.474444</td>\n",
       "    </tr>\n",
       "    <tr>\n",
       "      <th>...</th>\n",
       "      <td>...</td>\n",
       "      <td>...</td>\n",
       "    </tr>\n",
       "    <tr>\n",
       "      <th>116247</th>\n",
       "      <td>10</td>\n",
       "      <td>6.885556</td>\n",
       "    </tr>\n",
       "    <tr>\n",
       "      <th>116248</th>\n",
       "      <td>10</td>\n",
       "      <td>1.390000</td>\n",
       "    </tr>\n",
       "    <tr>\n",
       "      <th>116249</th>\n",
       "      <td>7</td>\n",
       "      <td>3.870000</td>\n",
       "    </tr>\n",
       "    <tr>\n",
       "      <th>116250</th>\n",
       "      <td>8</td>\n",
       "      <td>4.277778</td>\n",
       "    </tr>\n",
       "    <tr>\n",
       "      <th>116251</th>\n",
       "      <td>8</td>\n",
       "      <td>5.477778</td>\n",
       "    </tr>\n",
       "    <tr>\n",
       "      <th>116252</th>\n",
       "      <td>0</td>\n",
       "      <td>0.000000</td>\n",
       "    </tr>\n",
       "    <tr>\n",
       "      <th>116253</th>\n",
       "      <td>0</td>\n",
       "      <td>0.000000</td>\n",
       "    </tr>\n",
       "    <tr>\n",
       "      <th>116254</th>\n",
       "      <td>0</td>\n",
       "      <td>0.000000</td>\n",
       "    </tr>\n",
       "    <tr>\n",
       "      <th>116255</th>\n",
       "      <td>1</td>\n",
       "      <td>0.071111</td>\n",
       "    </tr>\n",
       "    <tr>\n",
       "      <th>116256</th>\n",
       "      <td>0</td>\n",
       "      <td>0.000000</td>\n",
       "    </tr>\n",
       "    <tr>\n",
       "      <th>116257</th>\n",
       "      <td>7</td>\n",
       "      <td>5.812222</td>\n",
       "    </tr>\n",
       "    <tr>\n",
       "      <th>116258</th>\n",
       "      <td>1</td>\n",
       "      <td>0.053333</td>\n",
       "    </tr>\n",
       "    <tr>\n",
       "      <th>116259</th>\n",
       "      <td>0</td>\n",
       "      <td>0.000000</td>\n",
       "    </tr>\n",
       "    <tr>\n",
       "      <th>116260</th>\n",
       "      <td>6</td>\n",
       "      <td>1.598889</td>\n",
       "    </tr>\n",
       "    <tr>\n",
       "      <th>116261</th>\n",
       "      <td>1</td>\n",
       "      <td>0.035556</td>\n",
       "    </tr>\n",
       "    <tr>\n",
       "      <th>116262</th>\n",
       "      <td>6</td>\n",
       "      <td>0.876667</td>\n",
       "    </tr>\n",
       "    <tr>\n",
       "      <th>116263</th>\n",
       "      <td>3</td>\n",
       "      <td>0.435556</td>\n",
       "    </tr>\n",
       "    <tr>\n",
       "      <th>116264</th>\n",
       "      <td>0</td>\n",
       "      <td>0.000000</td>\n",
       "    </tr>\n",
       "    <tr>\n",
       "      <th>116265</th>\n",
       "      <td>1</td>\n",
       "      <td>0.007778</td>\n",
       "    </tr>\n",
       "    <tr>\n",
       "      <th>116266</th>\n",
       "      <td>3</td>\n",
       "      <td>1.162222</td>\n",
       "    </tr>\n",
       "    <tr>\n",
       "      <th>116267</th>\n",
       "      <td>7</td>\n",
       "      <td>29.852222</td>\n",
       "    </tr>\n",
       "    <tr>\n",
       "      <th>116268</th>\n",
       "      <td>5</td>\n",
       "      <td>0.456667</td>\n",
       "    </tr>\n",
       "    <tr>\n",
       "      <th>116269</th>\n",
       "      <td>7</td>\n",
       "      <td>18.926667</td>\n",
       "    </tr>\n",
       "    <tr>\n",
       "      <th>116270</th>\n",
       "      <td>7</td>\n",
       "      <td>0.740000</td>\n",
       "    </tr>\n",
       "    <tr>\n",
       "      <th>116271</th>\n",
       "      <td>3</td>\n",
       "      <td>0.112222</td>\n",
       "    </tr>\n",
       "    <tr>\n",
       "      <th>116272</th>\n",
       "      <td>0</td>\n",
       "      <td>0.000000</td>\n",
       "    </tr>\n",
       "    <tr>\n",
       "      <th>116273</th>\n",
       "      <td>7</td>\n",
       "      <td>2.145556</td>\n",
       "    </tr>\n",
       "    <tr>\n",
       "      <th>116274</th>\n",
       "      <td>7</td>\n",
       "      <td>16.525556</td>\n",
       "    </tr>\n",
       "    <tr>\n",
       "      <th>116275</th>\n",
       "      <td>7</td>\n",
       "      <td>1.436667</td>\n",
       "    </tr>\n",
       "    <tr>\n",
       "      <th>116276</th>\n",
       "      <td>0</td>\n",
       "      <td>0.000000</td>\n",
       "    </tr>\n",
       "  </tbody>\n",
       "</table>\n",
       "<p>116277 rows × 2 columns</p>\n",
       "</div>"
      ],
      "text/plain": [
       "        breadth        avg\n",
       "0             0   0.000000\n",
       "1             0   0.000000\n",
       "2            10   8.204444\n",
       "3             0   0.000000\n",
       "4             0   0.000000\n",
       "5             0   0.000000\n",
       "6             0   0.000000\n",
       "7             0   0.000000\n",
       "8             0   0.000000\n",
       "9             8   0.346667\n",
       "10            2   1.637778\n",
       "11            1   0.428889\n",
       "12            2   1.400000\n",
       "13            2   0.543333\n",
       "14            3   0.132222\n",
       "15            3   0.314444\n",
       "16            4   0.438889\n",
       "17            1   0.035556\n",
       "18            2   0.007778\n",
       "19            3   0.155556\n",
       "20            4   0.141111\n",
       "21            3   0.148889\n",
       "22            3   0.595556\n",
       "23            1   0.045556\n",
       "24            0   0.000000\n",
       "25            0   0.000000\n",
       "26            5   3.310000\n",
       "27            3   0.066667\n",
       "28            4   0.437778\n",
       "29            4   0.474444\n",
       "...         ...        ...\n",
       "116247       10   6.885556\n",
       "116248       10   1.390000\n",
       "116249        7   3.870000\n",
       "116250        8   4.277778\n",
       "116251        8   5.477778\n",
       "116252        0   0.000000\n",
       "116253        0   0.000000\n",
       "116254        0   0.000000\n",
       "116255        1   0.071111\n",
       "116256        0   0.000000\n",
       "116257        7   5.812222\n",
       "116258        1   0.053333\n",
       "116259        0   0.000000\n",
       "116260        6   1.598889\n",
       "116261        1   0.035556\n",
       "116262        6   0.876667\n",
       "116263        3   0.435556\n",
       "116264        0   0.000000\n",
       "116265        1   0.007778\n",
       "116266        3   1.162222\n",
       "116267        7  29.852222\n",
       "116268        5   0.456667\n",
       "116269        7  18.926667\n",
       "116270        7   0.740000\n",
       "116271        3   0.112222\n",
       "116272        0   0.000000\n",
       "116273        7   2.145556\n",
       "116274        7  16.525556\n",
       "116275        7   1.436667\n",
       "116276        0   0.000000\n",
       "\n",
       "[116277 rows x 2 columns]"
      ]
     },
     "execution_count": 166,
     "metadata": {},
     "output_type": "execute_result"
    }
   ],
   "source": [
    "small"
   ]
  },
  {
   "cell_type": "code",
   "execution_count": 173,
   "metadata": {
    "collapsed": false
   },
   "outputs": [
    {
     "name": "stderr",
     "output_type": "stream",
     "text": [
      "/Users/agnes/anaconda/lib/python3.5/site-packages/pandas/tools/plotting.py:3303: UserWarning: To output multiple subplots, the figure containing the passed axes is being cleared\n",
      "  \"is being cleared\", UserWarning)\n"
     ]
    },
    {
     "data": {
      "image/png": "[encoded data removed]",
      "text/plain": [
       "<matplotlib.figure.Figure at 0x10b1fc1d0>"
      ]
     },
     "metadata": {},
     "output_type": "display_data"
    }
   ],
   "source": [
    "# plot two subplots of histograms of breadth and avg columns, use pandas tools only ;)\n",
    "import matplotlib.pyplot as plt\n",
    "import pandas\n",
    "\n",
    "fig, ax = plt.subplots()\n",
    "small.hist(ax=ax, alpha=0.5);\n",
    "\n",
    "# try with and without log scale\n",
    "ax.set_yscale('log')"
   ]
  },
  {
   "cell_type": "code",
   "execution_count": null,
   "metadata": {
    "collapsed": true
   },
   "outputs": [],
   "source": []
  },
  {
   "cell_type": "code",
   "execution_count": null,
   "metadata": {
    "collapsed": true
   },
   "outputs": [],
   "source": []
  },
  {
   "cell_type": "markdown",
   "metadata": {},
   "source": [
    "Here is where interactive visualization comes in handy. Average expression level distribution looks very wide because of a few outliers, - highly expressed genes and most of the genes actually being expressed at a very low level. But instead of trying to adjust the limits on the x-axis, we can just zoom in on the interesting area. Try it!"
   ]
  },
  {
   "cell_type": "markdown",
   "metadata": {},
   "source": [
    "### 3. Scatter plot with a trend line"
   ]
  },
  {
   "cell_type": "markdown",
   "metadata": {},
   "source": [
    "This kind of plot must be the most popular way to visualize a trend in biological data. We seek clear\n",
    "and simple patterns demonstrating the relationships between different biological parameters or observations.\n",
    "Plot.ly's Python API does not come with out-of-the-box tools for plotting trend lines, but numpy has all we need. \n",
    "\n",
    "Let's say we want to plot the relationship between the breadth of expression and the average level. Again, for speed and simplicity, we only take the first 1000 genes in our data frame. Let's try to fit a polinomial function to our data points and plot both at the same time. By using plot.ly it's simple, just send the regression line trace to the same figure.  "
   ]
  },
  {
   "cell_type": "code",
   "execution_count": 156,
   "metadata": {
    "collapsed": false
   },
   "outputs": [
    {
     "ename": "TypeError",
     "evalue": "ufunc 'add' did not contain a loop with signature matching types dtype('<U32') dtype('<U32') dtype('<U32')",
     "output_type": "error",
     "traceback": [
      "\u001b[0;31m---------------------------------------------------------------------------\u001b[0m",
      "\u001b[0;31mTypeError\u001b[0m                                 Traceback (most recent call last)",
      "\u001b[0;32m<ipython-input-156-42a021f3e35c>\u001b[0m in \u001b[0;36m<module>\u001b[0;34m()\u001b[0m\n\u001b[1;32m      4\u001b[0m \u001b[0;34m\u001b[0m\u001b[0m\n\u001b[1;32m      5\u001b[0m \u001b[0;31m# Tips for trend line\u001b[0m\u001b[0;34m\u001b[0m\u001b[0;34m\u001b[0m\u001b[0m\n\u001b[0;32m----> 6\u001b[0;31m \u001b[0mcoefficients\u001b[0m \u001b[0;34m=\u001b[0m \u001b[0mnp\u001b[0m\u001b[0;34m.\u001b[0m\u001b[0mpolyfit\u001b[0m\u001b[0;34m(\u001b[0m\u001b[0mx\u001b[0m\u001b[0;34m=\u001b[0m\u001b[0;34m'breadth'\u001b[0m\u001b[0;34m,\u001b[0m \u001b[0my\u001b[0m\u001b[0;34m=\u001b[0m\u001b[0;34m'avg'\u001b[0m\u001b[0;34m,\u001b[0m \u001b[0mdeg\u001b[0m\u001b[0;34m=\u001b[0m\u001b[0;36m5\u001b[0m\u001b[0;34m)\u001b[0m\u001b[0;34m\u001b[0m\u001b[0m\n\u001b[0m\u001b[1;32m      7\u001b[0m \u001b[0;31m#polynomial = np.poly1d(coefficients)\u001b[0m\u001b[0;34m\u001b[0m\u001b[0;34m\u001b[0m\u001b[0m\n\u001b[1;32m      8\u001b[0m \u001b[0;31m#r_x = np.arange(0, 72, 0.5) # returns evenly spaced values within a given interval.\u001b[0m\u001b[0;34m\u001b[0m\u001b[0;34m\u001b[0m\u001b[0m\n",
      "\u001b[0;32m/Users/agnes/anaconda/lib/python3.5/site-packages/numpy/lib/polynomial.py\u001b[0m in \u001b[0;36mpolyfit\u001b[0;34m(x, y, deg, rcond, full, w, cov)\u001b[0m\n\u001b[1;32m    547\u001b[0m     \"\"\"\n\u001b[1;32m    548\u001b[0m     \u001b[0morder\u001b[0m \u001b[0;34m=\u001b[0m \u001b[0mint\u001b[0m\u001b[0;34m(\u001b[0m\u001b[0mdeg\u001b[0m\u001b[0;34m)\u001b[0m \u001b[0;34m+\u001b[0m \u001b[0;36m1\u001b[0m\u001b[0;34m\u001b[0m\u001b[0m\n\u001b[0;32m--> 549\u001b[0;31m     \u001b[0mx\u001b[0m \u001b[0;34m=\u001b[0m \u001b[0mNX\u001b[0m\u001b[0;34m.\u001b[0m\u001b[0masarray\u001b[0m\u001b[0;34m(\u001b[0m\u001b[0mx\u001b[0m\u001b[0;34m)\u001b[0m \u001b[0;34m+\u001b[0m \u001b[0;36m0.0\u001b[0m\u001b[0;34m\u001b[0m\u001b[0m\n\u001b[0m\u001b[1;32m    550\u001b[0m     \u001b[0my\u001b[0m \u001b[0;34m=\u001b[0m \u001b[0mNX\u001b[0m\u001b[0;34m.\u001b[0m\u001b[0masarray\u001b[0m\u001b[0;34m(\u001b[0m\u001b[0my\u001b[0m\u001b[0;34m)\u001b[0m \u001b[0;34m+\u001b[0m \u001b[0;36m0.0\u001b[0m\u001b[0;34m\u001b[0m\u001b[0m\n\u001b[1;32m    551\u001b[0m \u001b[0;34m\u001b[0m\u001b[0m\n",
      "\u001b[0;31mTypeError\u001b[0m: ufunc 'add' did not contain a loop with signature matching types dtype('<U32') dtype('<U32') dtype('<U32')"
     ]
    },
    {
     "name": "stderr",
     "output_type": "stream",
     "text": [
      "/Users/agnes/anaconda/lib/python3.5/site-packages/matplotlib/collections.py:590: FutureWarning: elementwise comparison failed; returning scalar instead, but in the future will perform elementwise comparison\n",
      "  if self._edgecolors == str('face'):\n"
     ]
    },
    {
     "data": {
      "image/png": "[encoded data removed]",
      "text/plain": [
       "<matplotlib.figure.Figure at 0x10b300eb8>"
      ]
     },
     "metadata": {},
     "output_type": "display_data"
    }
   ],
   "source": [
    "#Plot a scatter plot of the relationship betwen breadth of expression and avg with a trend line\n",
    "df.plot(kind='scatter',x='breadth',y='avg');\n",
    "\n",
    "\n",
    "# Tips for trend line\n",
    "coefficients = np.polyfit(x='breadth', y='avg', deg=5)\n",
    "#polynomial = np.poly1d(coefficients)\n",
    "#r_x = np.arange(0, 72, 0.5) # returns evenly spaced values within a given interval.\n",
    "#r_y = polynomial(r_x)\n"
   ]
  },
  {
   "cell_type": "markdown",
   "metadata": {},
   "source": [
    "### 4. Heatmap of gene expression"
   ]
  },
  {
   "cell_type": "markdown",
   "metadata": {},
   "source": [
    "Heatmap is another great way to visualize big amounts of data. It allows to clearly see the outliers and explore the \n",
    "general clustering patterns. Are genes in different tissues, but the same donor expressed similarly or do the same tissues\n",
    "from different donors tend to cluster together? Do brains of newborns and adults differ in gene expression patterns? \n",
    "Heatmaps of gene expression can give you good leads to questions like these. "
   ]
  },
  {
   "cell_type": "markdown",
   "metadata": {},
   "source": [
    "There is one catch with generating a heatmap for biological samples using plot.ly. Labels of the heatmap will actually\n",
    "be coordinates on the x and y axis. For the plot to look less cluttered, I have removed the grid and set dtick to 1. Setting autotick to False also proved useful in order to see all the samples correctly labeled. \n",
    "\n",
    "To improve readability, one often also needs to process samples names. In our data, as you probably noticed, sample names include everything: tissue name, annotation, donor, age. The name becomes long and impossible to display in a plot. Simple shortening will not work with plot.ly though, since the coordinates must be unique! \n",
    "\n",
    "For this tutorial I've cheated a bit, by just adding an integer to each shortened name, I'm sure you can handle the string processing of your samples names on your own ;-)"
   ]
  },
  {
   "cell_type": "code",
   "execution_count": 157,
   "metadata": {
    "collapsed": true
   },
   "outputs": [],
   "source": [
    "from scipy.spatial.distance import pdist, squareform\n",
    "from scipy.cluster.hierarchy import linkage, dendrogram"
   ]
  },
  {
   "cell_type": "code",
   "execution_count": 160,
   "metadata": {
    "collapsed": true
   },
   "outputs": [],
   "source": [
    "# Shorten names \n",
    "cols = [col for col in df.columns if col not in ['breadth', 'uniprot_id', 'avg']]\n",
    "short_cols = [col[0:20] for col in cols]\n",
    "short_cols = [short_cols[i] + str(i) for i in range(1,len(short_cols),1)]"
   ]
  },
  {
   "cell_type": "code",
   "execution_count": 162,
   "metadata": {
    "collapsed": false
   },
   "outputs": [
    {
     "data": {
      "text/plain": [
       "['Mouse_CD19_B_Cells_d1',\n",
       " 'Mouse_CD4_T_Cells_do2',\n",
       " 'Mouse_CD8_T_Cells_do3',\n",
       " 'bone_os_femoris_neon4',\n",
       " 'forelimb_embryo_E15_5',\n",
       " 'heart_embryo_E11_CNh6',\n",
       " 'kidney_neonate_N00_C7',\n",
       " 'neurospheres__parasy8',\n",
       " 'olfactory_brain_adul9',\n",
       " 'whole_body_embryo_E110']"
      ]
     },
     "execution_count": 162,
     "metadata": {},
     "output_type": "execute_result"
    }
   ],
   "source": [
    "short_cols"
   ]
  },
  {
   "cell_type": "code",
   "execution_count": 190,
   "metadata": {
    "collapsed": false
   },
   "outputs": [],
   "source": [
    "df.iloc[0,2:12]=short_cols"
   ]
  },
  {
   "cell_type": "code",
   "execution_count": 191,
   "metadata": {
    "collapsed": false
   },
   "outputs": [
    {
     "data": {
      "text/html": [
       "<div>\n",
       "<table border=\"1\" class=\"dataframe\">\n",
       "  <thead>\n",
       "    <tr style=\"text-align: right;\">\n",
       "      <th></th>\n",
       "      <th>00Annotation</th>\n",
       "      <th>uniprot_id</th>\n",
       "      <th>Mouse_CD19_B_Cells_donor1_CNhs1353111856125A2</th>\n",
       "      <th>Mouse_CD4_T_Cells_donor1_CNhs1350911854124I9</th>\n",
       "      <th>Mouse_CD8_T_Cells_donor1_CNhs1351111855125A1</th>\n",
       "      <th>bone_os_femoris_neonate_N20_CNhs11195135025C3</th>\n",
       "      <th>forelimb_embryo_E15_CNhs1100743720E7</th>\n",
       "      <th>heart_embryo_E11_CNhs1058633124E9</th>\n",
       "      <th>kidney_neonate_N00_CNhs1121464621G7</th>\n",
       "      <th>neurospheres__parasympathetic_neuron_derived_biol_rep3_CNhs1308611809124D9</th>\n",
       "      <th>olfactory_brain_adult_CNhs104891822I9</th>\n",
       "      <th>whole_body_embryo_E11_CNhs110143245I8</th>\n",
       "      <th>breadth</th>\n",
       "      <th>avg</th>\n",
       "    </tr>\n",
       "  </thead>\n",
       "  <tbody>\n",
       "    <tr>\n",
       "      <th>0</th>\n",
       "      <td>b'chr10:100007025..100007067,+'</td>\n",
       "      <td>b'uniprot:Q6A078'</td>\n",
       "      <td>Mouse_CD19_B_Cells_d1</td>\n",
       "      <td>Mouse_CD4_T_Cells_do2</td>\n",
       "      <td>Mouse_CD8_T_Cells_do3</td>\n",
       "      <td>bone_os_femoris_neon4</td>\n",
       "      <td>forelimb_embryo_E15_5</td>\n",
       "      <td>heart_embryo_E11_CNh6</td>\n",
       "      <td>kidney_neonate_N00_C7</td>\n",
       "      <td>neurospheres__parasy8</td>\n",
       "      <td>olfactory_brain_adul9</td>\n",
       "      <td>whole_body_embryo_E110</td>\n",
       "      <td>0</td>\n",
       "      <td>0.000000</td>\n",
       "    </tr>\n",
       "    <tr>\n",
       "      <th>1</th>\n",
       "      <td>b'chr10:100051744..100051765,+'</td>\n",
       "      <td>b'NA'</td>\n",
       "      <td>0</td>\n",
       "      <td>0</td>\n",
       "      <td>0</td>\n",
       "      <td>0</td>\n",
       "      <td>0</td>\n",
       "      <td>0</td>\n",
       "      <td>0</td>\n",
       "      <td>0</td>\n",
       "      <td>0</td>\n",
       "      <td>0</td>\n",
       "      <td>0</td>\n",
       "      <td>0.000000</td>\n",
       "    </tr>\n",
       "    <tr>\n",
       "      <th>2</th>\n",
       "      <td>b'chr10:100051839..100051903,-'</td>\n",
       "      <td>b'uniprot:Q8BHN7'</td>\n",
       "      <td>3.19</td>\n",
       "      <td>0.73</td>\n",
       "      <td>3.36</td>\n",
       "      <td>13.58</td>\n",
       "      <td>7.23</td>\n",
       "      <td>9.94</td>\n",
       "      <td>8.21</td>\n",
       "      <td>7.36</td>\n",
       "      <td>20.24</td>\n",
       "      <td>8.82</td>\n",
       "      <td>10</td>\n",
       "      <td>8.204444</td>\n",
       "    </tr>\n",
       "    <tr>\n",
       "      <th>3</th>\n",
       "      <td>b'chr10:100053047..100053060,-'</td>\n",
       "      <td>b'NA'</td>\n",
       "      <td>0</td>\n",
       "      <td>0</td>\n",
       "      <td>0</td>\n",
       "      <td>0</td>\n",
       "      <td>0</td>\n",
       "      <td>0</td>\n",
       "      <td>0</td>\n",
       "      <td>0</td>\n",
       "      <td>0</td>\n",
       "      <td>0</td>\n",
       "      <td>0</td>\n",
       "      <td>0.000000</td>\n",
       "    </tr>\n",
       "    <tr>\n",
       "      <th>4</th>\n",
       "      <td>b'chr10:100053061..100053066,-'</td>\n",
       "      <td>b'NA'</td>\n",
       "      <td>0</td>\n",
       "      <td>0</td>\n",
       "      <td>0</td>\n",
       "      <td>0</td>\n",
       "      <td>0</td>\n",
       "      <td>0</td>\n",
       "      <td>0</td>\n",
       "      <td>0</td>\n",
       "      <td>0</td>\n",
       "      <td>0</td>\n",
       "      <td>0</td>\n",
       "      <td>0.000000</td>\n",
       "    </tr>\n",
       "  </tbody>\n",
       "</table>\n",
       "</div>"
      ],
      "text/plain": [
       "                      00Annotation         uniprot_id  \\\n",
       "0  b'chr10:100007025..100007067,+'  b'uniprot:Q6A078'   \n",
       "1  b'chr10:100051744..100051765,+'              b'NA'   \n",
       "2  b'chr10:100051839..100051903,-'  b'uniprot:Q8BHN7'   \n",
       "3  b'chr10:100053047..100053060,-'              b'NA'   \n",
       "4  b'chr10:100053061..100053066,-'              b'NA'   \n",
       "\n",
       "  Mouse_CD19_B_Cells_donor1_CNhs1353111856125A2  \\\n",
       "0                         Mouse_CD19_B_Cells_d1   \n",
       "1                                             0   \n",
       "2                                          3.19   \n",
       "3                                             0   \n",
       "4                                             0   \n",
       "\n",
       "  Mouse_CD4_T_Cells_donor1_CNhs1350911854124I9  \\\n",
       "0                        Mouse_CD4_T_Cells_do2   \n",
       "1                                            0   \n",
       "2                                         0.73   \n",
       "3                                            0   \n",
       "4                                            0   \n",
       "\n",
       "  Mouse_CD8_T_Cells_donor1_CNhs1351111855125A1  \\\n",
       "0                        Mouse_CD8_T_Cells_do3   \n",
       "1                                            0   \n",
       "2                                         3.36   \n",
       "3                                            0   \n",
       "4                                            0   \n",
       "\n",
       "  bone_os_femoris_neonate_N20_CNhs11195135025C3  \\\n",
       "0                         bone_os_femoris_neon4   \n",
       "1                                             0   \n",
       "2                                         13.58   \n",
       "3                                             0   \n",
       "4                                             0   \n",
       "\n",
       "  forelimb_embryo_E15_CNhs1100743720E7 heart_embryo_E11_CNhs1058633124E9  \\\n",
       "0                forelimb_embryo_E15_5             heart_embryo_E11_CNh6   \n",
       "1                                    0                                 0   \n",
       "2                                 7.23                              9.94   \n",
       "3                                    0                                 0   \n",
       "4                                    0                                 0   \n",
       "\n",
       "  kidney_neonate_N00_CNhs1121464621G7  \\\n",
       "0               kidney_neonate_N00_C7   \n",
       "1                                   0   \n",
       "2                                8.21   \n",
       "3                                   0   \n",
       "4                                   0   \n",
       "\n",
       "  neurospheres__parasympathetic_neuron_derived_biol_rep3_CNhs1308611809124D9  \\\n",
       "0                              neurospheres__parasy8                           \n",
       "1                                                  0                           \n",
       "2                                               7.36                           \n",
       "3                                                  0                           \n",
       "4                                                  0                           \n",
       "\n",
       "  olfactory_brain_adult_CNhs104891822I9 whole_body_embryo_E11_CNhs110143245I8  \\\n",
       "0                 olfactory_brain_adul9                whole_body_embryo_E110   \n",
       "1                                     0                                     0   \n",
       "2                                 20.24                                  8.82   \n",
       "3                                     0                                     0   \n",
       "4                                     0                                     0   \n",
       "\n",
       "   breadth       avg  \n",
       "0        0  0.000000  \n",
       "1        0  0.000000  \n",
       "2       10  8.204444  \n",
       "3        0  0.000000  \n",
       "4        0  0.000000  "
      ]
     },
     "execution_count": 191,
     "metadata": {},
     "output_type": "execute_result"
    }
   ],
   "source": [
    "df.head()"
   ]
  },
  {
   "cell_type": "code",
   "execution_count": null,
   "metadata": {
    "collapsed": true
   },
   "outputs": [],
   "source": [
    "#Compute a distance matrix between columns and save it in square form"
   ]
  },
  {
   "cell_type": "code",
   "execution_count": 9,
   "metadata": {
    "collapsed": false
   },
   "outputs": [],
   "source": [
    "\n",
    "\n",
    "#data = squareform(pdist(...))\n",
    "\n",
    "# plot a heatmap"
   ]
  },
  {
   "cell_type": "markdown",
   "metadata": {},
   "source": [
    "### 5. Network of gene interactions"
   ]
  },
  {
   "cell_type": "markdown",
   "metadata": {},
   "source": [
    "Now at some point in our biological investigations, we've got to dig deeper and look at concrete genes/proteins we found interesting. \n",
    "\n",
    "If you go back to our first plot, you'll see that one of the points that stand out corresponds to Q16352(Alpha-internexin, AINX_HUMAN). This gene demonstrates both high level of expression in substantia nigra and the difference between adult and newborn samples is also significant. Which kind of makes sense, since this protein is involved in the morphogenesis of neurons. One of the ways to find out more about a protein is to look at it's interaction networks. \n",
    "\n",
    "I've downloaded the interaction network in tab-separated format from a popular database [string-db.org](http://string-db.org/), so there is nothing novel in plotting it, we are merely reproducing the graph on their website, but, hopefully, you'll be able to use it for your future contributions to science! "
   ]
  },
  {
   "cell_type": "code",
   "execution_count": 56,
   "metadata": {
    "collapsed": true
   },
   "outputs": [],
   "source": [
    "import networkx as nx\n",
    "\n",
    "x = np.genfromtxt('http://figshare.com/download/file/2088824', delimiter=\"\\t\", names=True, usecols=[0,1,14],\n",
    "                  dtype=['S5','S5','f8'])\n",
    "labels = x.dtype.names"
   ]
  },
  {
   "cell_type": "code",
   "execution_count": 61,
   "metadata": {
    "collapsed": false
   },
   "outputs": [
    {
     "data": {
      "text/plain": [
       "array([(b'CDK9', b'INA', 0.63), (b'NDEL1', b'NEFM', 0.486),\n",
       "       (b'INA', b'NEFM', 0.855), (b'MYO5A', b'INA', 0.632),\n",
       "       (b'STAU1', b'INA', 0.631), (b'NEFH', b'NEFM', 0.899),\n",
       "       (b'INA', b'NDEL1', 0.713), (b'INA', b'NEFH', 0.763),\n",
       "       (b'PKN1', b'NEFH', 0.743), (b'DLGAP', b'NEFM', 0.73),\n",
       "       (b'NDEL1', b'NEFH', 0.541), (b'AIMP1', b'NEFM', 0.596),\n",
       "       (b'INA', b'PKN1', 0.689), (b'DLGAP', b'INA', 0.72),\n",
       "       (b'PKN1', b'NEFM', 0.404), (b'DLGAP', b'NEFH', 0.9),\n",
       "       (b'NEFH', b'TSC1', 0.618), (b'AIMP1', b'INA', 0.676),\n",
       "       (b'INA', b'TSC1', 0.704), (b'AIMP1', b'NEFH', 0.596),\n",
       "       (b'TSC1', b'NEFM', 0.618)], \n",
       "      dtype=[('node1', 'S5'), ('node2', 'S5'), ('combined_score', '<f8')])"
      ]
     },
     "execution_count": 61,
     "metadata": {},
     "output_type": "execute_result"
    }
   ],
   "source": [
    "#Create an empty graph\n",
    "G=nx.Graph() \n",
    "x"
   ]
  },
  {
   "cell_type": "code",
   "execution_count": 60,
   "metadata": {
    "collapsed": false
   },
   "outputs": [
    {
     "ename": "TypeError",
     "evalue": "'numpy.float64' object is not iterable",
     "output_type": "error",
     "traceback": [
      "\u001b[0;31m---------------------------------------------------------------------------\u001b[0m",
      "\u001b[0;31mTypeError\u001b[0m                                 Traceback (most recent call last)",
      "\u001b[0;32m<ipython-input-60-1402ec8ddb2e>\u001b[0m in \u001b[0;36m<module>\u001b[0;34m()\u001b[0m\n\u001b[0;32m----> 1\u001b[0;31m \u001b[0mG\u001b[0m\u001b[0;34m.\u001b[0m\u001b[0madd_edges_from\u001b[0m\u001b[0;34m(\u001b[0m\u001b[0mx\u001b[0m\u001b[0;34m)\u001b[0m\u001b[0;34m\u001b[0m\u001b[0m\n\u001b[0m",
      "\u001b[0;32m/Users/agnes/anaconda/lib/python3.5/site-packages/networkx/classes/graph.py\u001b[0m in \u001b[0;36madd_edges_from\u001b[0;34m(self, ebunch, attr_dict, **attr)\u001b[0m\n\u001b[1;32m    871\u001b[0m             \u001b[0mdatadict\u001b[0m \u001b[0;34m=\u001b[0m \u001b[0mself\u001b[0m\u001b[0;34m.\u001b[0m\u001b[0madj\u001b[0m\u001b[0;34m[\u001b[0m\u001b[0mu\u001b[0m\u001b[0;34m]\u001b[0m\u001b[0;34m.\u001b[0m\u001b[0mget\u001b[0m\u001b[0;34m(\u001b[0m\u001b[0mv\u001b[0m\u001b[0;34m,\u001b[0m \u001b[0mself\u001b[0m\u001b[0;34m.\u001b[0m\u001b[0medge_attr_dict_factory\u001b[0m\u001b[0;34m(\u001b[0m\u001b[0;34m)\u001b[0m\u001b[0;34m)\u001b[0m\u001b[0;34m\u001b[0m\u001b[0m\n\u001b[1;32m    872\u001b[0m             \u001b[0mdatadict\u001b[0m\u001b[0;34m.\u001b[0m\u001b[0mupdate\u001b[0m\u001b[0;34m(\u001b[0m\u001b[0mattr_dict\u001b[0m\u001b[0;34m)\u001b[0m\u001b[0;34m\u001b[0m\u001b[0m\n\u001b[0;32m--> 873\u001b[0;31m             \u001b[0mdatadict\u001b[0m\u001b[0;34m.\u001b[0m\u001b[0mupdate\u001b[0m\u001b[0;34m(\u001b[0m\u001b[0mdd\u001b[0m\u001b[0;34m)\u001b[0m\u001b[0;34m\u001b[0m\u001b[0m\n\u001b[0m\u001b[1;32m    874\u001b[0m             \u001b[0mself\u001b[0m\u001b[0;34m.\u001b[0m\u001b[0madj\u001b[0m\u001b[0;34m[\u001b[0m\u001b[0mu\u001b[0m\u001b[0;34m]\u001b[0m\u001b[0;34m[\u001b[0m\u001b[0mv\u001b[0m\u001b[0;34m]\u001b[0m \u001b[0;34m=\u001b[0m \u001b[0mdatadict\u001b[0m\u001b[0;34m\u001b[0m\u001b[0m\n\u001b[1;32m    875\u001b[0m             \u001b[0mself\u001b[0m\u001b[0;34m.\u001b[0m\u001b[0madj\u001b[0m\u001b[0;34m[\u001b[0m\u001b[0mv\u001b[0m\u001b[0;34m]\u001b[0m\u001b[0;34m[\u001b[0m\u001b[0mu\u001b[0m\u001b[0;34m]\u001b[0m \u001b[0;34m=\u001b[0m \u001b[0mdatadict\u001b[0m\u001b[0;34m\u001b[0m\u001b[0m\n",
      "\u001b[0;31mTypeError\u001b[0m: 'numpy.float64' object is not iterable"
     ]
    }
   ],
   "source": [
    "#Add edges to it from x\n",
    "G.add_edges_from(x)"
   ]
  },
  {
   "cell_type": "code",
   "execution_count": 62,
   "metadata": {
    "collapsed": false
   },
   "outputs": [
    {
     "ename": "SyntaxError",
     "evalue": "invalid syntax (<ipython-input-62-b655ae870996>, line 1)",
     "output_type": "error",
     "traceback": [
      "\u001b[0;36m  File \u001b[0;32m\"<ipython-input-62-b655ae870996>\"\u001b[0;36m, line \u001b[0;32m1\u001b[0m\n\u001b[0;31m    Plot G\u001b[0m\n\u001b[0m         ^\u001b[0m\n\u001b[0;31mSyntaxError\u001b[0m\u001b[0;31m:\u001b[0m invalid syntax\n"
     ]
    }
   ],
   "source": [
    "Plot G"
   ]
  },
  {
   "cell_type": "markdown",
   "metadata": {},
   "source": [
    "Now you see our protein under it's gene name(INA) in the center of the graph. "
   ]
  },
  {
   "cell_type": "markdown",
   "metadata": {
    "collapsed": true
   },
   "source": [
    "Now, that's all, folks! I hope you enjoyed this intro to exploratory bioinformatics and got inspired to create beautiful interactive visualizations for your biological data. "
   ]
  }
 ],
 "metadata": {
  "kernelspec": {
   "display_name": "Python 3",
   "language": "python",
   "name": "python3"
  },
  "language_info": {
   "codemirror_mode": {
    "name": "ipython",
    "version": 3
   },
   "file_extension": ".py",
   "mimetype": "text/x-python",
   "name": "python",
   "nbconvert_exporter": "python",
   "pygments_lexer": "ipython3",
   "version": "3.5.0"
  }
 },
 "nbformat": 4,
 "nbformat_minor": 0
}
